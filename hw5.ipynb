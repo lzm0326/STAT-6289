{
 "cells": [
  {
   "cell_type": "code",
   "execution_count": 1,
   "metadata": {},
   "outputs": [
    {
     "name": "stdout",
     "output_type": "stream",
     "text": [
      "Collecting pymagnitudeNote: you may need to restart the kernel to use updated packages.\n",
      "\n",
      "  Downloading pymagnitude-0.1.143.tar.gz (5.4 MB)\n",
      "Requirement already satisfied (use --upgrade to upgrade): pymagnitude from https://files.pythonhosted.org/packages/69/40/ec05f0630f6dd56eb323dee5bc70a52e4f21247185d8662d3d08267cc6c7/pymagnitude-0.1.143.tar.gz#sha256=c97f552ea28d733aeac7058821ae876fe6b2f42392786bc4dd231ef73b3c8fe2 in d:\\anaconda\\envs\\tf\\lib\\site-packages\\pymagnitude-0.1.143-py3.7-win-amd64.egg\n",
      "Building wheels for collected packages: pymagnitude\n",
      "  Building wheel for pymagnitude (setup.py): started\n",
      "  Building wheel for pymagnitude (setup.py): finished with status 'done'\n",
      "  Created wheel for pymagnitude: filename=pymagnitude-0.1.143-cp37-cp37m-win_amd64.whl size=85332671 sha256=b2519381d7563f88efd7249dd8ed31c04841bbeb054d27b8e04d6f67943101e6\n",
      "  Stored in directory: c:\\users\\administrator\\appdata\\local\\pip\\cache\\wheels\\0e\\96\\d6\\b765a1ce34517c193d764b634b1ff7db5e1dcfea2520f17273\n",
      "Successfully built pymagnitude\n"
     ]
    }
   ],
   "source": [
    "pip install pymagnitude"
   ]
  },
  {
   "cell_type": "code",
   "execution_count": null,
   "metadata": {},
   "outputs": [],
   "source": [
    "from pymagnitude import *\n",
    "file_path = \"GoogleNews-vectors-negative300.magnitude\"\n",
    "vectors = Magnitude(file_path)"
   ]
  },
  {
   "cell_type": "code",
   "execution_count": 11,
   "metadata": {},
   "outputs": [
    {
     "data": {
      "text/plain": [
       "0.691454"
      ]
     },
     "execution_count": 11,
     "metadata": {},
     "output_type": "execute_result"
    }
   ],
   "source": [
    "vectors.distance(\"cat\",\"dog\")"
   ]
  },
  {
   "cell_type": "markdown",
   "metadata": {},
   "source": [
    "# 1.  What is the dimensionality of these word embeddings? Provide an integer answer. "
   ]
  },
  {
   "cell_type": "code",
   "execution_count": 12,
   "metadata": {},
   "outputs": [
    {
     "data": {
      "text/plain": [
       "300"
      ]
     },
     "execution_count": 12,
     "metadata": {},
     "output_type": "execute_result"
    }
   ],
   "source": [
    "vectors.dim"
   ]
  },
  {
   "cell_type": "markdown",
   "metadata": {},
   "source": [
    "# 2.  What are the top-5 most similar words to picnic (not including picnic itself)? "
   ]
  },
  {
   "cell_type": "code",
   "execution_count": 45,
   "metadata": {},
   "outputs": [
    {
     "name": "stdout",
     "output_type": "stream",
     "text": [
      "[('picnic', 0.9999999), ('picnics', 0.7400875), ('picnic_lunch', 0.7213739), ('Picnic', 0.7005339), ('potluck_picnic', 0.66832733), ('picnic_supper', 0.6518913), ('picnicking', 0.63550216)]\n"
     ]
    }
   ],
   "source": [
    "# not including 'picnic' itself\n",
    "\n",
    "result=vectors.most_similar(vectors.query(\"picnic\"), topn = 7)\n",
    "print(result)\n"
   ]
  },
  {
   "cell_type": "code",
   "execution_count": 36,
   "metadata": {},
   "outputs": [],
   "source": [
    "import pandas as pd\n",
    "from pandas import DataFrame\n",
    "import matplotlib.pyplot as plt"
   ]
  },
  {
   "cell_type": "code",
   "execution_count": 40,
   "metadata": {},
   "outputs": [
    {
     "data": {
      "image/png": "[encoded data removed]",
      "text/plain": [
       "<Figure size 432x288 with 1 Axes>"
      ]
     },
     "metadata": {
      "needs_background": "light"
     },
     "output_type": "display_data"
    }
   ],
   "source": [
    "word=[]\n",
    "sim=[]\n",
    "for i in range(len(result)):\n",
    "    word.append(result[i][0])\n",
    "    sim.append(result[i][1])\n",
    "plt.bar(word,sim,color=\"green\")\n",
    "plt.xticks(rotation=45)\n",
    "plt.show()"
   ]
  },
  {
   "cell_type": "markdown",
   "metadata": {},
   "source": [
    "# 3.  According to the word embeddings, which of these words is not like the others? ['tissue', 'papyrus', 'manila', 'newsprint', 'parchment', 'gazette'] "
   ]
  },
  {
   "cell_type": "code",
   "execution_count": 9,
   "metadata": {},
   "outputs": [
    {
     "data": {
      "text/plain": [
       "'tissue'"
      ]
     },
     "execution_count": 9,
     "metadata": {},
     "output_type": "execute_result"
    }
   ],
   "source": [
    "vectors.doesnt_match([\"tissue\", \"papyrus\", \"manila\", \"newsprint\", \"parchment\", \"gazette\"])"
   ]
  },
  {
   "cell_type": "markdown",
   "metadata": {},
   "source": [
    "# 4.  Solve the following analogy: leg is to jump as X is to throw. "
   ]
  },
  {
   "cell_type": "code",
   "execution_count": 17,
   "metadata": {},
   "outputs": [
    {
     "data": {
      "text/plain": [
       "[('forearm', 0.48294657),\n",
       " ('shin', 0.47376168),\n",
       " ('elbow', 0.4679689),\n",
       " ('metacarpal_bone', 0.46781483),\n",
       " ('metacarpal_bones', 0.46605828),\n",
       " ('ankle', 0.46434426),\n",
       " ('shoulder', 0.4618336),\n",
       " ('thigh', 0.45393687),\n",
       " ('knee', 0.4455707),\n",
       " ('ulna_bone', 0.44234914)]"
      ]
     },
     "execution_count": 17,
     "metadata": {},
     "output_type": "execute_result"
    }
   ],
   "source": [
    "vectors.most_similar(positive = [\"leg\", \"throw\"], negative = [\"jump\"])"
   ]
  }
 ],
 "metadata": {
  "kernelspec": {
   "display_name": "Python 3",
   "language": "python",
   "name": "python3"
  },
  "language_info": {
   "codemirror_mode": {
    "name": "ipython",
    "version": 3
   },
   "file_extension": ".py",
   "mimetype": "text/x-python",
   "name": "python",
   "nbconvert_exporter": "python",
   "pygments_lexer": "ipython3",
   "version": "3.7.9"
  }
 },
 "nbformat": 4,
 "nbformat_minor": 4
}
